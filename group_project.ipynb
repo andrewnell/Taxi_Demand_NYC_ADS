{
 "cells": [
  {
   "cell_type": "code",
   "execution_count": 2,
   "metadata": {},
   "outputs": [],
   "source": [
    "import pandas as pd\n",
    "import numpy as np\n",
    "import pylab as pl\n",
    "import os \n",
    "import sys\n",
    "%matplotlib inline\n"
   ]
  },
  {
   "cell_type": "code",
   "execution_count": 3,
   "metadata": {},
   "outputs": [
    {
     "name": "stdout",
     "output_type": "stream",
     "text": [
      "--2017-11-20 16:43:06--  https://s3.amazonaws.com/nyc-tlc/trip+data/yellow_tripdata_2015-01.csv\n",
      "Resolving s3.amazonaws.com... 52.216.128.253\n",
      "Connecting to s3.amazonaws.com|52.216.128.253|:443... connected.\n",
      "HTTP request sent, awaiting response... 200 OK\n",
      "Length: 1985964692 (1.8G) [application/octet-stream]\n",
      "Saving to: “yellow_tripdata_2015-01.csv”\n",
      "\n",
      "100%[====================================>] 1,985,964,692 42.5M/s   in 43s     \n",
      "\n",
      "2017-11-20 16:43:50 (43.7 MB/s) - “yellow_tripdata_2015-01.csv” saved [1985964692/1985964692]\n",
      "\n"
     ]
    }
   ],
   "source": [
    "#!wget https://s3.amazonaws.com/nyc-tlc/trip+data/yellow_tripdata_2015-01.csv"
   ]
  },
  {
   "cell_type": "code",
   "execution_count": 45,
   "metadata": {},
   "outputs": [
    {
     "name": "stdout",
     "output_type": "stream",
     "text": [
      "--2017-11-20 18:51:26--  https://s3.amazonaws.com/nyc-tlc/trip+data/green_tripdata_2015-01.csv\n",
      "Resolving s3.amazonaws.com... 52.216.64.243\n",
      "Connecting to s3.amazonaws.com|52.216.64.243|:443... connected.\n",
      "HTTP request sent, awaiting response... 200 OK\n",
      "Length: 243307680 (232M) [application/octet-stream]\n",
      "Saving to: “green_tripdata_2015-01.csv”\n",
      "\n",
      "100%[======================================>] 243,307,680 58.3M/s   in 4.2s    \n",
      "\n",
      "2017-11-20 18:51:30 (54.8 MB/s) - “green_tripdata_2015-01.csv” saved [243307680/243307680]\n",
      "\n"
     ]
    }
   ],
   "source": [
    "#!wget https://s3.amazonaws.com/nyc-tlc/trip+data/green_tripdata_2015-01.csv"
   ]
  },
  {
   "cell_type": "code",
   "execution_count": 48,
   "metadata": {},
   "outputs": [
    {
     "name": "stdout",
     "output_type": "stream",
     "text": [
      "--2017-11-20 19:06:05--  https://s3.amazonaws.com/nyc-tlc/trip+data/fhv_tripdata_2015-01.csv\n",
      "Resolving s3.amazonaws.com... 52.216.97.237\n",
      "Connecting to s3.amazonaws.com|52.216.97.237|:443... connected.\n",
      "HTTP request sent, awaiting response... 200 OK\n",
      "Length: 85733063 (82M) [text/csv]\n",
      "Saving to: “fhv_tripdata_2015-01.csv”\n",
      "\n",
      "100%[======================================>] 85,733,063  46.0M/s   in 1.8s    \n",
      "\n",
      "2017-11-20 19:06:07 (46.0 MB/s) - “fhv_tripdata_2015-01.csv” saved [85733063/85733063]\n",
      "\n"
     ]
    }
   ],
   "source": [
    "#!wget https://s3.amazonaws.com/nyc-tlc/trip+data/fhv_tripdata_2015-01.csv"
   ]
  },
  {
   "cell_type": "code",
   "execution_count": 5,
   "metadata": {},
   "outputs": [],
   "source": [
    "#!mv yellow_tripdata_2015-01.csv data"
   ]
  },
  {
   "cell_type": "code",
   "execution_count": 46,
   "metadata": {},
   "outputs": [],
   "source": [
    "#!mv green_tripdata_2015-01.csv data"
   ]
  },
  {
   "cell_type": "code",
   "execution_count": 50,
   "metadata": {},
   "outputs": [],
   "source": [
    "#!mv fhv_tripdata_2015-01.csv data"
   ]
  },
  {
   "cell_type": "code",
   "execution_count": 6,
   "metadata": {},
   "outputs": [],
   "source": [
    "taxi_data = pd.read_csv(\"data/yellow_tripdata_2015-01.csv\")"
   ]
  },
  {
   "cell_type": "code",
   "execution_count": 3,
   "metadata": {},
   "outputs": [],
   "source": [
    "fhv_data = pd.read_csv(\"data/fhv_tripdata_2015-01.csv\")"
   ]
  },
  {
   "cell_type": "code",
   "execution_count": 4,
   "metadata": {},
   "outputs": [
    {
     "ename": "NameError",
     "evalue": "name 'taxi_data' is not defined",
     "output_type": "error",
     "traceback": [
      "\u001b[0;31m\u001b[0m",
      "\u001b[0;31mNameError\u001b[0mTraceback (most recent call last)",
      "\u001b[0;32m<ipython-input-4-9d865e43c842>\u001b[0m in \u001b[0;36m<module>\u001b[0;34m()\u001b[0m\n\u001b[0;32m----> 1\u001b[0;31m \u001b[0mtaxi_data\u001b[0m\u001b[0;34m.\u001b[0m\u001b[0mhead\u001b[0m\u001b[0;34m(\u001b[0m\u001b[0;34m)\u001b[0m\u001b[0;34m\u001b[0m\u001b[0m\n\u001b[0m",
      "\u001b[0;31mNameError\u001b[0m: name 'taxi_data' is not defined"
     ]
    }
   ],
   "source": [
    "#taxi_data.head()"
   ]
  },
  {
   "cell_type": "code",
   "execution_count": 8,
   "metadata": {},
   "outputs": [
    {
     "data": {
      "text/plain": [
       "(12748986, 19)"
      ]
     },
     "execution_count": 8,
     "metadata": {},
     "output_type": "execute_result"
    }
   ],
   "source": [
    "#taxi_data.shape"
   ]
  },
  {
   "cell_type": "code",
   "execution_count": 10,
   "metadata": {},
   "outputs": [
    {
     "name": "stderr",
     "output_type": "stream",
     "text": [
      "/opt/rh/anaconda/root/envs/PUI2016_Python2/lib/python2.7/site-packages/IPython/core/interactiveshell.py:2717: DtypeWarning: Columns (14,15,20,23,25,40,84,85,86,87) have mixed types. Specify dtype option on import or set low_memory=False.\n",
      "  interactivity=interactivity, compiler=compiler, result=result)\n"
     ]
    }
   ],
   "source": [
    "weather_data = pd.read_csv(\"data/1106040.csv\")"
   ]
  },
  {
   "cell_type": "code",
   "execution_count": 20,
   "metadata": {},
   "outputs": [],
   "source": [
    "#taxi_data.tpep_pickup_datetime = pd.to_datetime(taxi_data.tpep_pickup_datetime)"
   ]
  },
  {
   "cell_type": "code",
   "execution_count": 5,
   "metadata": {},
   "outputs": [],
   "source": [
    "def get_times(data):\n",
    "    x, y = data\n",
    "    return (x, y)"
   ]
  },
  {
   "cell_type": "code",
   "execution_count": 21,
   "metadata": {},
   "outputs": [],
   "source": [
    "#taxi_data['day'] = taxi_data.tpep_pickup_datetime.dt.day\n",
    "#taxi_data['hour'] = taxi_data.tpep_pickup_datetime.dt.hour\n"
   ]
  },
  {
   "cell_type": "code",
   "execution_count": 27,
   "metadata": {},
   "outputs": [],
   "source": [
    "#taxi_data['DAY_HOUR'] = taxi_data[['day', 'hour']].apply(get_times, axis=1)"
   ]
  },
  {
   "cell_type": "code",
   "execution_count": 28,
   "metadata": {},
   "outputs": [
    {
     "data": {
      "text/plain": [
       "0    (15, 19)\n",
       "1    (10, 20)\n",
       "2    (10, 20)\n",
       "3    (10, 20)\n",
       "4    (10, 20)\n",
       "Name: DAY_HOUR, dtype: object"
      ]
     },
     "execution_count": 28,
     "metadata": {},
     "output_type": "execute_result"
    }
   ],
   "source": [
    "#taxi_data['DAY_HOUR'].head()"
   ]
  },
  {
   "cell_type": "code",
   "execution_count": 6,
   "metadata": {},
   "outputs": [],
   "source": [
    "fhv_sub = fhv_data[fhv_data.locationID.isnull() == False]"
   ]
  },
  {
   "cell_type": "code",
   "execution_count": 7,
   "metadata": {},
   "outputs": [
    {
     "name": "stderr",
     "output_type": "stream",
     "text": [
      "/opt/rh/anaconda/root/envs/PUI2016_Python2/lib/python2.7/site-packages/pandas/core/generic.py:2701: SettingWithCopyWarning: \n",
      "A value is trying to be set on a copy of a slice from a DataFrame.\n",
      "Try using .loc[row_indexer,col_indexer] = value instead\n",
      "\n",
      "See the caveats in the documentation: http://pandas.pydata.org/pandas-docs/stable/indexing.html#indexing-view-versus-copy\n",
      "  self[name] = value\n"
     ]
    }
   ],
   "source": [
    "fhv_sub.Pickup_date = pd.to_datetime(fhv_sub.Pickup_date)\n"
   ]
  },
  {
   "cell_type": "code",
   "execution_count": 8,
   "metadata": {},
   "outputs": [
    {
     "name": "stderr",
     "output_type": "stream",
     "text": [
      "/opt/rh/anaconda/root/envs/PUI2016_Python2/lib/python2.7/site-packages/ipykernel/__main__.py:1: SettingWithCopyWarning: \n",
      "A value is trying to be set on a copy of a slice from a DataFrame.\n",
      "Try using .loc[row_indexer,col_indexer] = value instead\n",
      "\n",
      "See the caveats in the documentation: http://pandas.pydata.org/pandas-docs/stable/indexing.html#indexing-view-versus-copy\n",
      "  if __name__ == '__main__':\n",
      "/opt/rh/anaconda/root/envs/PUI2016_Python2/lib/python2.7/site-packages/ipykernel/__main__.py:2: SettingWithCopyWarning: \n",
      "A value is trying to be set on a copy of a slice from a DataFrame.\n",
      "Try using .loc[row_indexer,col_indexer] = value instead\n",
      "\n",
      "See the caveats in the documentation: http://pandas.pydata.org/pandas-docs/stable/indexing.html#indexing-view-versus-copy\n",
      "  from ipykernel import kernelapp as app\n",
      "/opt/rh/anaconda/root/envs/PUI2016_Python2/lib/python2.7/site-packages/ipykernel/__main__.py:3: SettingWithCopyWarning: \n",
      "A value is trying to be set on a copy of a slice from a DataFrame.\n",
      "Try using .loc[row_indexer,col_indexer] = value instead\n",
      "\n",
      "See the caveats in the documentation: http://pandas.pydata.org/pandas-docs/stable/indexing.html#indexing-view-versus-copy\n",
      "  app.launch_new_instance()\n"
     ]
    }
   ],
   "source": [
    "fhv_sub['day'] = fhv_sub.Pickup_date.dt.day\n",
    "fhv_sub['hour'] = fhv_sub.Pickup_date.dt.hour\n",
    "fhv_sub['DAY_HOUR'] = fhv_sub[['day', 'hour']].apply(get_times, axis=1)"
   ]
  },
  {
   "cell_type": "code",
   "execution_count": 9,
   "metadata": {},
   "outputs": [],
   "source": [
    "fhv_fin = fhv_sub.groupby(['locationID','DAY_HOUR']).count().reset_index()"
   ]
  },
  {
   "cell_type": "code",
   "execution_count": 13,
   "metadata": {},
   "outputs": [],
   "source": [
    "weather_data.Date = pd.to_datetime(weather_data.DATE)"
   ]
  },
  {
   "cell_type": "code",
   "execution_count": 14,
   "metadata": {},
   "outputs": [],
   "source": [
    "weather_subdata = weather_data[weather_data.Date.dt.month == 1]"
   ]
  },
  {
   "cell_type": "code",
   "execution_count": 33,
   "metadata": {},
   "outputs": [
    {
     "name": "stderr",
     "output_type": "stream",
     "text": [
      "/opt/rh/anaconda/root/envs/PUI2016_Python2/lib/python2.7/site-packages/pandas/core/generic.py:2701: SettingWithCopyWarning: \n",
      "A value is trying to be set on a copy of a slice from a DataFrame.\n",
      "Try using .loc[row_indexer,col_indexer] = value instead\n",
      "\n",
      "See the caveats in the documentation: http://pandas.pydata.org/pandas-docs/stable/indexing.html#indexing-view-versus-copy\n",
      "  self[name] = value\n"
     ]
    }
   ],
   "source": [
    "weather_subdata.DATE =  pd.to_datetime(weather_subdata.DATE)"
   ]
  },
  {
   "cell_type": "code",
   "execution_count": 35,
   "metadata": {},
   "outputs": [
    {
     "name": "stderr",
     "output_type": "stream",
     "text": [
      "/opt/rh/anaconda/root/envs/PUI2016_Python2/lib/python2.7/site-packages/ipykernel/__main__.py:1: SettingWithCopyWarning: \n",
      "A value is trying to be set on a copy of a slice from a DataFrame.\n",
      "Try using .loc[row_indexer,col_indexer] = value instead\n",
      "\n",
      "See the caveats in the documentation: http://pandas.pydata.org/pandas-docs/stable/indexing.html#indexing-view-versus-copy\n",
      "  if __name__ == '__main__':\n",
      "/opt/rh/anaconda/root/envs/PUI2016_Python2/lib/python2.7/site-packages/ipykernel/__main__.py:2: SettingWithCopyWarning: \n",
      "A value is trying to be set on a copy of a slice from a DataFrame.\n",
      "Try using .loc[row_indexer,col_indexer] = value instead\n",
      "\n",
      "See the caveats in the documentation: http://pandas.pydata.org/pandas-docs/stable/indexing.html#indexing-view-versus-copy\n",
      "  from ipykernel import kernelapp as app\n"
     ]
    }
   ],
   "source": [
    "weather_subdata['day'] = weather_subdata.DATE.dt.day\n",
    "weather_subdata['hour'] = weather_subdata.DATE.dt.hour"
   ]
  },
  {
   "cell_type": "code",
   "execution_count": 37,
   "metadata": {},
   "outputs": [
    {
     "name": "stderr",
     "output_type": "stream",
     "text": [
      "/opt/rh/anaconda/root/envs/PUI2016_Python2/lib/python2.7/site-packages/ipykernel/__main__.py:1: SettingWithCopyWarning: \n",
      "A value is trying to be set on a copy of a slice from a DataFrame.\n",
      "Try using .loc[row_indexer,col_indexer] = value instead\n",
      "\n",
      "See the caveats in the documentation: http://pandas.pydata.org/pandas-docs/stable/indexing.html#indexing-view-versus-copy\n",
      "  if __name__ == '__main__':\n"
     ]
    }
   ],
   "source": [
    "weather_subdata['DAY_HOUR'] = weather_subdata[['day','hour']].apply(get_times, axis=1)"
   ]
  },
  {
   "cell_type": "code",
   "execution_count": 38,
   "metadata": {},
   "outputs": [
    {
     "data": {
      "text/plain": [
       "8789    (1, 0)\n",
       "8790    (1, 1)\n",
       "8791    (1, 2)\n",
       "8792    (1, 3)\n",
       "8793    (1, 4)\n",
       "Name: DAY_HOUR, dtype: object"
      ]
     },
     "execution_count": 38,
     "metadata": {},
     "output_type": "execute_result"
    }
   ],
   "source": [
    "weather_subdata['DAY_HOUR'].head()"
   ]
  },
  {
   "cell_type": "code",
   "execution_count": 40,
   "metadata": {},
   "outputs": [],
   "source": [
    "merged_taxi = taxi_data.merge(weather_subdata, left_on='DAY_HOUR', right_on='DAY_HOUR')"
   ]
  },
  {
   "cell_type": "code",
   "execution_count": 41,
   "metadata": {},
   "outputs": [
    {
     "data": {
      "text/plain": [
       "(17977607, 114)"
      ]
     },
     "execution_count": 41,
     "metadata": {},
     "output_type": "execute_result"
    }
   ],
   "source": [
    "merged_taxi.shape"
   ]
  },
  {
   "cell_type": "code",
   "execution_count": null,
   "metadata": {},
   "outputs": [],
   "source": []
  },
  {
   "cell_type": "code",
   "execution_count": 43,
   "metadata": {},
   "outputs": [
    {
     "data": {
      "text/html": [
       "<div>\n",
       "<table border=\"1\" class=\"dataframe\">\n",
       "  <thead>\n",
       "    <tr style=\"text-align: right;\">\n",
       "      <th></th>\n",
       "      <th>tpep_pickup_datetime</th>\n",
       "      <th>DATE</th>\n",
       "    </tr>\n",
       "  </thead>\n",
       "  <tbody>\n",
       "    <tr>\n",
       "      <th>0</th>\n",
       "      <td>2015-01-15 19:05:39</td>\n",
       "      <td>2015-01-15 19:51:00</td>\n",
       "    </tr>\n",
       "    <tr>\n",
       "      <th>1</th>\n",
       "      <td>2015-01-15 19:05:39</td>\n",
       "      <td>2015-01-15 19:51:00</td>\n",
       "    </tr>\n",
       "    <tr>\n",
       "      <th>2</th>\n",
       "      <td>2015-01-15 19:05:40</td>\n",
       "      <td>2015-01-15 19:51:00</td>\n",
       "    </tr>\n",
       "    <tr>\n",
       "      <th>3</th>\n",
       "      <td>2015-01-15 19:05:40</td>\n",
       "      <td>2015-01-15 19:51:00</td>\n",
       "    </tr>\n",
       "    <tr>\n",
       "      <th>4</th>\n",
       "      <td>2015-01-15 19:05:41</td>\n",
       "      <td>2015-01-15 19:51:00</td>\n",
       "    </tr>\n",
       "  </tbody>\n",
       "</table>\n",
       "</div>"
      ],
      "text/plain": [
       "  tpep_pickup_datetime                DATE\n",
       "0  2015-01-15 19:05:39 2015-01-15 19:51:00\n",
       "1  2015-01-15 19:05:39 2015-01-15 19:51:00\n",
       "2  2015-01-15 19:05:40 2015-01-15 19:51:00\n",
       "3  2015-01-15 19:05:40 2015-01-15 19:51:00\n",
       "4  2015-01-15 19:05:41 2015-01-15 19:51:00"
      ]
     },
     "execution_count": 43,
     "metadata": {},
     "output_type": "execute_result"
    }
   ],
   "source": [
    "merged_taxi[['tpep_pickup_datetime','DATE']].head()"
   ]
  },
  {
   "cell_type": "code",
   "execution_count": 81,
   "metadata": {},
   "outputs": [],
   "source": [
    "merged_fhv = fhv_fin.merge(weather_subdata, left_on='DAY_HOUR', right_on='DAY_HOUR')"
   ]
  },
  {
   "cell_type": "code",
   "execution_count": 83,
   "metadata": {},
   "outputs": [
    {
     "data": {
      "text/html": [
       "<div>\n",
       "<table border=\"1\" class=\"dataframe\">\n",
       "  <thead>\n",
       "    <tr style=\"text-align: right;\">\n",
       "      <th></th>\n",
       "      <th>locationID</th>\n",
       "      <th>DAY_HOUR</th>\n",
       "      <th>Dispatching_base_num</th>\n",
       "      <th>Pickup_date</th>\n",
       "      <th>day_x</th>\n",
       "      <th>hour_x</th>\n",
       "      <th>STATION</th>\n",
       "      <th>STATION_NAME</th>\n",
       "      <th>ELEVATION</th>\n",
       "      <th>LATITUDE</th>\n",
       "      <th>...</th>\n",
       "      <th>MonthlyMinSeaLevelPressureDate</th>\n",
       "      <th>MonthlyMinSeaLevelPressureTime</th>\n",
       "      <th>MonthlyTotalHeatingDegreeDays</th>\n",
       "      <th>MonthlyTotalCoolingDegreeDays</th>\n",
       "      <th>MonthlyDeptFromNormalHeatingDD</th>\n",
       "      <th>MonthlyDeptFromNormalCoolingDD</th>\n",
       "      <th>MonthlyTotalSeasonToDateHeatingDD</th>\n",
       "      <th>MonthlyTotalSeasonToDateCoolingDD</th>\n",
       "      <th>day_y</th>\n",
       "      <th>hour_y</th>\n",
       "    </tr>\n",
       "  </thead>\n",
       "  <tbody>\n",
       "    <tr>\n",
       "      <th>0</th>\n",
       "      <td>1.0</td>\n",
       "      <td>(1, 15)</td>\n",
       "      <td>1</td>\n",
       "      <td>1</td>\n",
       "      <td>1</td>\n",
       "      <td>1</td>\n",
       "      <td>WBAN:94728</td>\n",
       "      <td>NY CITY CENTRAL PARK NY US</td>\n",
       "      <td>42.7</td>\n",
       "      <td>40.77898</td>\n",
       "      <td>...</td>\n",
       "      <td>-9999</td>\n",
       "      <td>-9999</td>\n",
       "      <td>NaN</td>\n",
       "      <td>NaN</td>\n",
       "      <td>NaN</td>\n",
       "      <td>NaN</td>\n",
       "      <td>NaN</td>\n",
       "      <td>NaN</td>\n",
       "      <td>1</td>\n",
       "      <td>15</td>\n",
       "    </tr>\n",
       "    <tr>\n",
       "      <th>1</th>\n",
       "      <td>2.0</td>\n",
       "      <td>(1, 15)</td>\n",
       "      <td>1</td>\n",
       "      <td>1</td>\n",
       "      <td>1</td>\n",
       "      <td>1</td>\n",
       "      <td>WBAN:94728</td>\n",
       "      <td>NY CITY CENTRAL PARK NY US</td>\n",
       "      <td>42.7</td>\n",
       "      <td>40.77898</td>\n",
       "      <td>...</td>\n",
       "      <td>-9999</td>\n",
       "      <td>-9999</td>\n",
       "      <td>NaN</td>\n",
       "      <td>NaN</td>\n",
       "      <td>NaN</td>\n",
       "      <td>NaN</td>\n",
       "      <td>NaN</td>\n",
       "      <td>NaN</td>\n",
       "      <td>1</td>\n",
       "      <td>15</td>\n",
       "    </tr>\n",
       "    <tr>\n",
       "      <th>2</th>\n",
       "      <td>4.0</td>\n",
       "      <td>(1, 15)</td>\n",
       "      <td>19</td>\n",
       "      <td>19</td>\n",
       "      <td>19</td>\n",
       "      <td>19</td>\n",
       "      <td>WBAN:94728</td>\n",
       "      <td>NY CITY CENTRAL PARK NY US</td>\n",
       "      <td>42.7</td>\n",
       "      <td>40.77898</td>\n",
       "      <td>...</td>\n",
       "      <td>-9999</td>\n",
       "      <td>-9999</td>\n",
       "      <td>NaN</td>\n",
       "      <td>NaN</td>\n",
       "      <td>NaN</td>\n",
       "      <td>NaN</td>\n",
       "      <td>NaN</td>\n",
       "      <td>NaN</td>\n",
       "      <td>1</td>\n",
       "      <td>15</td>\n",
       "    </tr>\n",
       "    <tr>\n",
       "      <th>3</th>\n",
       "      <td>5.0</td>\n",
       "      <td>(1, 15)</td>\n",
       "      <td>1</td>\n",
       "      <td>1</td>\n",
       "      <td>1</td>\n",
       "      <td>1</td>\n",
       "      <td>WBAN:94728</td>\n",
       "      <td>NY CITY CENTRAL PARK NY US</td>\n",
       "      <td>42.7</td>\n",
       "      <td>40.77898</td>\n",
       "      <td>...</td>\n",
       "      <td>-9999</td>\n",
       "      <td>-9999</td>\n",
       "      <td>NaN</td>\n",
       "      <td>NaN</td>\n",
       "      <td>NaN</td>\n",
       "      <td>NaN</td>\n",
       "      <td>NaN</td>\n",
       "      <td>NaN</td>\n",
       "      <td>1</td>\n",
       "      <td>15</td>\n",
       "    </tr>\n",
       "    <tr>\n",
       "      <th>4</th>\n",
       "      <td>7.0</td>\n",
       "      <td>(1, 15)</td>\n",
       "      <td>16</td>\n",
       "      <td>16</td>\n",
       "      <td>16</td>\n",
       "      <td>16</td>\n",
       "      <td>WBAN:94728</td>\n",
       "      <td>NY CITY CENTRAL PARK NY US</td>\n",
       "      <td>42.7</td>\n",
       "      <td>40.77898</td>\n",
       "      <td>...</td>\n",
       "      <td>-9999</td>\n",
       "      <td>-9999</td>\n",
       "      <td>NaN</td>\n",
       "      <td>NaN</td>\n",
       "      <td>NaN</td>\n",
       "      <td>NaN</td>\n",
       "      <td>NaN</td>\n",
       "      <td>NaN</td>\n",
       "      <td>1</td>\n",
       "      <td>15</td>\n",
       "    </tr>\n",
       "    <tr>\n",
       "      <th>5</th>\n",
       "      <td>10.0</td>\n",
       "      <td>(1, 15)</td>\n",
       "      <td>1</td>\n",
       "      <td>1</td>\n",
       "      <td>1</td>\n",
       "      <td>1</td>\n",
       "      <td>WBAN:94728</td>\n",
       "      <td>NY CITY CENTRAL PARK NY US</td>\n",
       "      <td>42.7</td>\n",
       "      <td>40.77898</td>\n",
       "      <td>...</td>\n",
       "      <td>-9999</td>\n",
       "      <td>-9999</td>\n",
       "      <td>NaN</td>\n",
       "      <td>NaN</td>\n",
       "      <td>NaN</td>\n",
       "      <td>NaN</td>\n",
       "      <td>NaN</td>\n",
       "      <td>NaN</td>\n",
       "      <td>1</td>\n",
       "      <td>15</td>\n",
       "    </tr>\n",
       "    <tr>\n",
       "      <th>6</th>\n",
       "      <td>11.0</td>\n",
       "      <td>(1, 15)</td>\n",
       "      <td>1</td>\n",
       "      <td>1</td>\n",
       "      <td>1</td>\n",
       "      <td>1</td>\n",
       "      <td>WBAN:94728</td>\n",
       "      <td>NY CITY CENTRAL PARK NY US</td>\n",
       "      <td>42.7</td>\n",
       "      <td>40.77898</td>\n",
       "      <td>...</td>\n",
       "      <td>-9999</td>\n",
       "      <td>-9999</td>\n",
       "      <td>NaN</td>\n",
       "      <td>NaN</td>\n",
       "      <td>NaN</td>\n",
       "      <td>NaN</td>\n",
       "      <td>NaN</td>\n",
       "      <td>NaN</td>\n",
       "      <td>1</td>\n",
       "      <td>15</td>\n",
       "    </tr>\n",
       "    <tr>\n",
       "      <th>7</th>\n",
       "      <td>12.0</td>\n",
       "      <td>(1, 15)</td>\n",
       "      <td>4</td>\n",
       "      <td>4</td>\n",
       "      <td>4</td>\n",
       "      <td>4</td>\n",
       "      <td>WBAN:94728</td>\n",
       "      <td>NY CITY CENTRAL PARK NY US</td>\n",
       "      <td>42.7</td>\n",
       "      <td>40.77898</td>\n",
       "      <td>...</td>\n",
       "      <td>-9999</td>\n",
       "      <td>-9999</td>\n",
       "      <td>NaN</td>\n",
       "      <td>NaN</td>\n",
       "      <td>NaN</td>\n",
       "      <td>NaN</td>\n",
       "      <td>NaN</td>\n",
       "      <td>NaN</td>\n",
       "      <td>1</td>\n",
       "      <td>15</td>\n",
       "    </tr>\n",
       "    <tr>\n",
       "      <th>8</th>\n",
       "      <td>13.0</td>\n",
       "      <td>(1, 15)</td>\n",
       "      <td>10</td>\n",
       "      <td>10</td>\n",
       "      <td>10</td>\n",
       "      <td>10</td>\n",
       "      <td>WBAN:94728</td>\n",
       "      <td>NY CITY CENTRAL PARK NY US</td>\n",
       "      <td>42.7</td>\n",
       "      <td>40.77898</td>\n",
       "      <td>...</td>\n",
       "      <td>-9999</td>\n",
       "      <td>-9999</td>\n",
       "      <td>NaN</td>\n",
       "      <td>NaN</td>\n",
       "      <td>NaN</td>\n",
       "      <td>NaN</td>\n",
       "      <td>NaN</td>\n",
       "      <td>NaN</td>\n",
       "      <td>1</td>\n",
       "      <td>15</td>\n",
       "    </tr>\n",
       "    <tr>\n",
       "      <th>9</th>\n",
       "      <td>14.0</td>\n",
       "      <td>(1, 15)</td>\n",
       "      <td>1</td>\n",
       "      <td>1</td>\n",
       "      <td>1</td>\n",
       "      <td>1</td>\n",
       "      <td>WBAN:94728</td>\n",
       "      <td>NY CITY CENTRAL PARK NY US</td>\n",
       "      <td>42.7</td>\n",
       "      <td>40.77898</td>\n",
       "      <td>...</td>\n",
       "      <td>-9999</td>\n",
       "      <td>-9999</td>\n",
       "      <td>NaN</td>\n",
       "      <td>NaN</td>\n",
       "      <td>NaN</td>\n",
       "      <td>NaN</td>\n",
       "      <td>NaN</td>\n",
       "      <td>NaN</td>\n",
       "      <td>1</td>\n",
       "      <td>15</td>\n",
       "    </tr>\n",
       "    <tr>\n",
       "      <th>10</th>\n",
       "      <td>16.0</td>\n",
       "      <td>(1, 15)</td>\n",
       "      <td>1</td>\n",
       "      <td>1</td>\n",
       "      <td>1</td>\n",
       "      <td>1</td>\n",
       "      <td>WBAN:94728</td>\n",
       "      <td>NY CITY CENTRAL PARK NY US</td>\n",
       "      <td>42.7</td>\n",
       "      <td>40.77898</td>\n",
       "      <td>...</td>\n",
       "      <td>-9999</td>\n",
       "      <td>-9999</td>\n",
       "      <td>NaN</td>\n",
       "      <td>NaN</td>\n",
       "      <td>NaN</td>\n",
       "      <td>NaN</td>\n",
       "      <td>NaN</td>\n",
       "      <td>NaN</td>\n",
       "      <td>1</td>\n",
       "      <td>15</td>\n",
       "    </tr>\n",
       "    <tr>\n",
       "      <th>11</th>\n",
       "      <td>17.0</td>\n",
       "      <td>(1, 15)</td>\n",
       "      <td>14</td>\n",
       "      <td>14</td>\n",
       "      <td>14</td>\n",
       "      <td>14</td>\n",
       "      <td>WBAN:94728</td>\n",
       "      <td>NY CITY CENTRAL PARK NY US</td>\n",
       "      <td>42.7</td>\n",
       "      <td>40.77898</td>\n",
       "      <td>...</td>\n",
       "      <td>-9999</td>\n",
       "      <td>-9999</td>\n",
       "      <td>NaN</td>\n",
       "      <td>NaN</td>\n",
       "      <td>NaN</td>\n",
       "      <td>NaN</td>\n",
       "      <td>NaN</td>\n",
       "      <td>NaN</td>\n",
       "      <td>1</td>\n",
       "      <td>15</td>\n",
       "    </tr>\n",
       "    <tr>\n",
       "      <th>12</th>\n",
       "      <td>18.0</td>\n",
       "      <td>(1, 15)</td>\n",
       "      <td>5</td>\n",
       "      <td>5</td>\n",
       "      <td>5</td>\n",
       "      <td>5</td>\n",
       "      <td>WBAN:94728</td>\n",
       "      <td>NY CITY CENTRAL PARK NY US</td>\n",
       "      <td>42.7</td>\n",
       "      <td>40.77898</td>\n",
       "      <td>...</td>\n",
       "      <td>-9999</td>\n",
       "      <td>-9999</td>\n",
       "      <td>NaN</td>\n",
       "      <td>NaN</td>\n",
       "      <td>NaN</td>\n",
       "      <td>NaN</td>\n",
       "      <td>NaN</td>\n",
       "      <td>NaN</td>\n",
       "      <td>1</td>\n",
       "      <td>15</td>\n",
       "    </tr>\n",
       "    <tr>\n",
       "      <th>13</th>\n",
       "      <td>20.0</td>\n",
       "      <td>(1, 15)</td>\n",
       "      <td>6</td>\n",
       "      <td>6</td>\n",
       "      <td>6</td>\n",
       "      <td>6</td>\n",
       "      <td>WBAN:94728</td>\n",
       "      <td>NY CITY CENTRAL PARK NY US</td>\n",
       "      <td>42.7</td>\n",
       "      <td>40.77898</td>\n",
       "      <td>...</td>\n",
       "      <td>-9999</td>\n",
       "      <td>-9999</td>\n",
       "      <td>NaN</td>\n",
       "      <td>NaN</td>\n",
       "      <td>NaN</td>\n",
       "      <td>NaN</td>\n",
       "      <td>NaN</td>\n",
       "      <td>NaN</td>\n",
       "      <td>1</td>\n",
       "      <td>15</td>\n",
       "    </tr>\n",
       "    <tr>\n",
       "      <th>14</th>\n",
       "      <td>22.0</td>\n",
       "      <td>(1, 15)</td>\n",
       "      <td>3</td>\n",
       "      <td>3</td>\n",
       "      <td>3</td>\n",
       "      <td>3</td>\n",
       "      <td>WBAN:94728</td>\n",
       "      <td>NY CITY CENTRAL PARK NY US</td>\n",
       "      <td>42.7</td>\n",
       "      <td>40.77898</td>\n",
       "      <td>...</td>\n",
       "      <td>-9999</td>\n",
       "      <td>-9999</td>\n",
       "      <td>NaN</td>\n",
       "      <td>NaN</td>\n",
       "      <td>NaN</td>\n",
       "      <td>NaN</td>\n",
       "      <td>NaN</td>\n",
       "      <td>NaN</td>\n",
       "      <td>1</td>\n",
       "      <td>15</td>\n",
       "    </tr>\n",
       "    <tr>\n",
       "      <th>15</th>\n",
       "      <td>24.0</td>\n",
       "      <td>(1, 15)</td>\n",
       "      <td>3</td>\n",
       "      <td>3</td>\n",
       "      <td>3</td>\n",
       "      <td>3</td>\n",
       "      <td>WBAN:94728</td>\n",
       "      <td>NY CITY CENTRAL PARK NY US</td>\n",
       "      <td>42.7</td>\n",
       "      <td>40.77898</td>\n",
       "      <td>...</td>\n",
       "      <td>-9999</td>\n",
       "      <td>-9999</td>\n",
       "      <td>NaN</td>\n",
       "      <td>NaN</td>\n",
       "      <td>NaN</td>\n",
       "      <td>NaN</td>\n",
       "      <td>NaN</td>\n",
       "      <td>NaN</td>\n",
       "      <td>1</td>\n",
       "      <td>15</td>\n",
       "    </tr>\n",
       "    <tr>\n",
       "      <th>16</th>\n",
       "      <td>25.0</td>\n",
       "      <td>(1, 15)</td>\n",
       "      <td>8</td>\n",
       "      <td>8</td>\n",
       "      <td>8</td>\n",
       "      <td>8</td>\n",
       "      <td>WBAN:94728</td>\n",
       "      <td>NY CITY CENTRAL PARK NY US</td>\n",
       "      <td>42.7</td>\n",
       "      <td>40.77898</td>\n",
       "      <td>...</td>\n",
       "      <td>-9999</td>\n",
       "      <td>-9999</td>\n",
       "      <td>NaN</td>\n",
       "      <td>NaN</td>\n",
       "      <td>NaN</td>\n",
       "      <td>NaN</td>\n",
       "      <td>NaN</td>\n",
       "      <td>NaN</td>\n",
       "      <td>1</td>\n",
       "      <td>15</td>\n",
       "    </tr>\n",
       "    <tr>\n",
       "      <th>17</th>\n",
       "      <td>26.0</td>\n",
       "      <td>(1, 15)</td>\n",
       "      <td>2</td>\n",
       "      <td>2</td>\n",
       "      <td>2</td>\n",
       "      <td>2</td>\n",
       "      <td>WBAN:94728</td>\n",
       "      <td>NY CITY CENTRAL PARK NY US</td>\n",
       "      <td>42.7</td>\n",
       "      <td>40.77898</td>\n",
       "      <td>...</td>\n",
       "      <td>-9999</td>\n",
       "      <td>-9999</td>\n",
       "      <td>NaN</td>\n",
       "      <td>NaN</td>\n",
       "      <td>NaN</td>\n",
       "      <td>NaN</td>\n",
       "      <td>NaN</td>\n",
       "      <td>NaN</td>\n",
       "      <td>1</td>\n",
       "      <td>15</td>\n",
       "    </tr>\n",
       "    <tr>\n",
       "      <th>18</th>\n",
       "      <td>28.0</td>\n",
       "      <td>(1, 15)</td>\n",
       "      <td>2</td>\n",
       "      <td>2</td>\n",
       "      <td>2</td>\n",
       "      <td>2</td>\n",
       "      <td>WBAN:94728</td>\n",
       "      <td>NY CITY CENTRAL PARK NY US</td>\n",
       "      <td>42.7</td>\n",
       "      <td>40.77898</td>\n",
       "      <td>...</td>\n",
       "      <td>-9999</td>\n",
       "      <td>-9999</td>\n",
       "      <td>NaN</td>\n",
       "      <td>NaN</td>\n",
       "      <td>NaN</td>\n",
       "      <td>NaN</td>\n",
       "      <td>NaN</td>\n",
       "      <td>NaN</td>\n",
       "      <td>1</td>\n",
       "      <td>15</td>\n",
       "    </tr>\n",
       "    <tr>\n",
       "      <th>19</th>\n",
       "      <td>29.0</td>\n",
       "      <td>(1, 15)</td>\n",
       "      <td>1</td>\n",
       "      <td>1</td>\n",
       "      <td>1</td>\n",
       "      <td>1</td>\n",
       "      <td>WBAN:94728</td>\n",
       "      <td>NY CITY CENTRAL PARK NY US</td>\n",
       "      <td>42.7</td>\n",
       "      <td>40.77898</td>\n",
       "      <td>...</td>\n",
       "      <td>-9999</td>\n",
       "      <td>-9999</td>\n",
       "      <td>NaN</td>\n",
       "      <td>NaN</td>\n",
       "      <td>NaN</td>\n",
       "      <td>NaN</td>\n",
       "      <td>NaN</td>\n",
       "      <td>NaN</td>\n",
       "      <td>1</td>\n",
       "      <td>15</td>\n",
       "    </tr>\n",
       "  </tbody>\n",
       "</table>\n",
       "<p>20 rows × 98 columns</p>\n",
       "</div>"
      ],
      "text/plain": [
       "    locationID DAY_HOUR  Dispatching_base_num  Pickup_date  day_x  hour_x  \\\n",
       "0          1.0  (1, 15)                     1            1      1       1   \n",
       "1          2.0  (1, 15)                     1            1      1       1   \n",
       "2          4.0  (1, 15)                    19           19     19      19   \n",
       "3          5.0  (1, 15)                     1            1      1       1   \n",
       "4          7.0  (1, 15)                    16           16     16      16   \n",
       "5         10.0  (1, 15)                     1            1      1       1   \n",
       "6         11.0  (1, 15)                     1            1      1       1   \n",
       "7         12.0  (1, 15)                     4            4      4       4   \n",
       "8         13.0  (1, 15)                    10           10     10      10   \n",
       "9         14.0  (1, 15)                     1            1      1       1   \n",
       "10        16.0  (1, 15)                     1            1      1       1   \n",
       "11        17.0  (1, 15)                    14           14     14      14   \n",
       "12        18.0  (1, 15)                     5            5      5       5   \n",
       "13        20.0  (1, 15)                     6            6      6       6   \n",
       "14        22.0  (1, 15)                     3            3      3       3   \n",
       "15        24.0  (1, 15)                     3            3      3       3   \n",
       "16        25.0  (1, 15)                     8            8      8       8   \n",
       "17        26.0  (1, 15)                     2            2      2       2   \n",
       "18        28.0  (1, 15)                     2            2      2       2   \n",
       "19        29.0  (1, 15)                     1            1      1       1   \n",
       "\n",
       "       STATION                STATION_NAME  ELEVATION  LATITUDE   ...    \\\n",
       "0   WBAN:94728  NY CITY CENTRAL PARK NY US       42.7  40.77898   ...     \n",
       "1   WBAN:94728  NY CITY CENTRAL PARK NY US       42.7  40.77898   ...     \n",
       "2   WBAN:94728  NY CITY CENTRAL PARK NY US       42.7  40.77898   ...     \n",
       "3   WBAN:94728  NY CITY CENTRAL PARK NY US       42.7  40.77898   ...     \n",
       "4   WBAN:94728  NY CITY CENTRAL PARK NY US       42.7  40.77898   ...     \n",
       "5   WBAN:94728  NY CITY CENTRAL PARK NY US       42.7  40.77898   ...     \n",
       "6   WBAN:94728  NY CITY CENTRAL PARK NY US       42.7  40.77898   ...     \n",
       "7   WBAN:94728  NY CITY CENTRAL PARK NY US       42.7  40.77898   ...     \n",
       "8   WBAN:94728  NY CITY CENTRAL PARK NY US       42.7  40.77898   ...     \n",
       "9   WBAN:94728  NY CITY CENTRAL PARK NY US       42.7  40.77898   ...     \n",
       "10  WBAN:94728  NY CITY CENTRAL PARK NY US       42.7  40.77898   ...     \n",
       "11  WBAN:94728  NY CITY CENTRAL PARK NY US       42.7  40.77898   ...     \n",
       "12  WBAN:94728  NY CITY CENTRAL PARK NY US       42.7  40.77898   ...     \n",
       "13  WBAN:94728  NY CITY CENTRAL PARK NY US       42.7  40.77898   ...     \n",
       "14  WBAN:94728  NY CITY CENTRAL PARK NY US       42.7  40.77898   ...     \n",
       "15  WBAN:94728  NY CITY CENTRAL PARK NY US       42.7  40.77898   ...     \n",
       "16  WBAN:94728  NY CITY CENTRAL PARK NY US       42.7  40.77898   ...     \n",
       "17  WBAN:94728  NY CITY CENTRAL PARK NY US       42.7  40.77898   ...     \n",
       "18  WBAN:94728  NY CITY CENTRAL PARK NY US       42.7  40.77898   ...     \n",
       "19  WBAN:94728  NY CITY CENTRAL PARK NY US       42.7  40.77898   ...     \n",
       "\n",
       "    MonthlyMinSeaLevelPressureDate MonthlyMinSeaLevelPressureTime  \\\n",
       "0                            -9999                          -9999   \n",
       "1                            -9999                          -9999   \n",
       "2                            -9999                          -9999   \n",
       "3                            -9999                          -9999   \n",
       "4                            -9999                          -9999   \n",
       "5                            -9999                          -9999   \n",
       "6                            -9999                          -9999   \n",
       "7                            -9999                          -9999   \n",
       "8                            -9999                          -9999   \n",
       "9                            -9999                          -9999   \n",
       "10                           -9999                          -9999   \n",
       "11                           -9999                          -9999   \n",
       "12                           -9999                          -9999   \n",
       "13                           -9999                          -9999   \n",
       "14                           -9999                          -9999   \n",
       "15                           -9999                          -9999   \n",
       "16                           -9999                          -9999   \n",
       "17                           -9999                          -9999   \n",
       "18                           -9999                          -9999   \n",
       "19                           -9999                          -9999   \n",
       "\n",
       "   MonthlyTotalHeatingDegreeDays MonthlyTotalCoolingDegreeDays  \\\n",
       "0                            NaN                           NaN   \n",
       "1                            NaN                           NaN   \n",
       "2                            NaN                           NaN   \n",
       "3                            NaN                           NaN   \n",
       "4                            NaN                           NaN   \n",
       "5                            NaN                           NaN   \n",
       "6                            NaN                           NaN   \n",
       "7                            NaN                           NaN   \n",
       "8                            NaN                           NaN   \n",
       "9                            NaN                           NaN   \n",
       "10                           NaN                           NaN   \n",
       "11                           NaN                           NaN   \n",
       "12                           NaN                           NaN   \n",
       "13                           NaN                           NaN   \n",
       "14                           NaN                           NaN   \n",
       "15                           NaN                           NaN   \n",
       "16                           NaN                           NaN   \n",
       "17                           NaN                           NaN   \n",
       "18                           NaN                           NaN   \n",
       "19                           NaN                           NaN   \n",
       "\n",
       "   MonthlyDeptFromNormalHeatingDD MonthlyDeptFromNormalCoolingDD  \\\n",
       "0                             NaN                            NaN   \n",
       "1                             NaN                            NaN   \n",
       "2                             NaN                            NaN   \n",
       "3                             NaN                            NaN   \n",
       "4                             NaN                            NaN   \n",
       "5                             NaN                            NaN   \n",
       "6                             NaN                            NaN   \n",
       "7                             NaN                            NaN   \n",
       "8                             NaN                            NaN   \n",
       "9                             NaN                            NaN   \n",
       "10                            NaN                            NaN   \n",
       "11                            NaN                            NaN   \n",
       "12                            NaN                            NaN   \n",
       "13                            NaN                            NaN   \n",
       "14                            NaN                            NaN   \n",
       "15                            NaN                            NaN   \n",
       "16                            NaN                            NaN   \n",
       "17                            NaN                            NaN   \n",
       "18                            NaN                            NaN   \n",
       "19                            NaN                            NaN   \n",
       "\n",
       "    MonthlyTotalSeasonToDateHeatingDD  MonthlyTotalSeasonToDateCoolingDD  \\\n",
       "0                                 NaN                                NaN   \n",
       "1                                 NaN                                NaN   \n",
       "2                                 NaN                                NaN   \n",
       "3                                 NaN                                NaN   \n",
       "4                                 NaN                                NaN   \n",
       "5                                 NaN                                NaN   \n",
       "6                                 NaN                                NaN   \n",
       "7                                 NaN                                NaN   \n",
       "8                                 NaN                                NaN   \n",
       "9                                 NaN                                NaN   \n",
       "10                                NaN                                NaN   \n",
       "11                                NaN                                NaN   \n",
       "12                                NaN                                NaN   \n",
       "13                                NaN                                NaN   \n",
       "14                                NaN                                NaN   \n",
       "15                                NaN                                NaN   \n",
       "16                                NaN                                NaN   \n",
       "17                                NaN                                NaN   \n",
       "18                                NaN                                NaN   \n",
       "19                                NaN                                NaN   \n",
       "\n",
       "    day_y  hour_y  \n",
       "0       1      15  \n",
       "1       1      15  \n",
       "2       1      15  \n",
       "3       1      15  \n",
       "4       1      15  \n",
       "5       1      15  \n",
       "6       1      15  \n",
       "7       1      15  \n",
       "8       1      15  \n",
       "9       1      15  \n",
       "10      1      15  \n",
       "11      1      15  \n",
       "12      1      15  \n",
       "13      1      15  \n",
       "14      1      15  \n",
       "15      1      15  \n",
       "16      1      15  \n",
       "17      1      15  \n",
       "18      1      15  \n",
       "19      1      15  \n",
       "\n",
       "[20 rows x 98 columns]"
      ]
     },
     "execution_count": 83,
     "metadata": {},
     "output_type": "execute_result"
    }
   ],
   "source": [
    "merged_fhv.head()"
   ]
  },
  {
   "cell_type": "code",
   "execution_count": 1,
   "metadata": {},
   "outputs": [
    {
     "ename": "NameError",
     "evalue": "name 'fhv_sub' is not defined",
     "output_type": "error",
     "traceback": [
      "\u001b[0;31m\u001b[0m",
      "\u001b[0;31mNameError\u001b[0mTraceback (most recent call last)",
      "\u001b[0;32m<ipython-input-1-468a444bec7f>\u001b[0m in \u001b[0;36m<module>\u001b[0;34m()\u001b[0m\n\u001b[0;32m----> 1\u001b[0;31m \u001b[0mfhv_sub\u001b[0m\u001b[0;34m.\u001b[0m\u001b[0mgroupby\u001b[0m\u001b[0;34m(\u001b[0m\u001b[0;34m'locationID'\u001b[0m\u001b[0;34m,\u001b[0m \u001b[0;34m'DAY_HOUR'\u001b[0m\u001b[0;34m)\u001b[0m\u001b[0;34m.\u001b[0m\u001b[0mcount\u001b[0m\u001b[0;34m(\u001b[0m\u001b[0;34m)\u001b[0m\u001b[0;34m\u001b[0m\u001b[0m\n\u001b[0m",
      "\u001b[0;31mNameError\u001b[0m: name 'fhv_sub' is not defined"
     ]
    }
   ],
   "source": [
    "fhv_sub.groupby('locationID', 'DAY_HOUR').count()"
   ]
  },
  {
   "cell_type": "code",
   "execution_count": null,
   "metadata": {},
   "outputs": [],
   "source": []
  }
 ],
 "metadata": {
  "kernelspec": {
   "display_name": "PUI2016_Python2",
   "language": "python",
   "name": "pui2016_python2"
  },
  "language_info": {
   "codemirror_mode": {
    "name": "ipython",
    "version": 2
   },
   "file_extension": ".py",
   "mimetype": "text/x-python",
   "name": "python",
   "nbconvert_exporter": "python",
   "pygments_lexer": "ipython2",
   "version": "2.7.12"
  }
 },
 "nbformat": 4,
 "nbformat_minor": 2
}
